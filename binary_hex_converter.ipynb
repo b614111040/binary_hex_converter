{
  "nbformat": 4,
  "nbformat_minor": 0,
  "metadata": {
    "colab": {
      "provenance": [],
      "authorship_tag": "ABX9TyPtYWxunmOok6tbFmvFBfIK",
      "include_colab_link": true
    },
    "kernelspec": {
      "name": "python3",
      "display_name": "Python 3"
    },
    "language_info": {
      "name": "python"
    }
  },
  "cells": [
    {
      "cell_type": "markdown",
      "metadata": {
        "id": "view-in-github",
        "colab_type": "text"
      },
      "source": [
        "<a href=\"https://colab.research.google.com/github/b614111040/binary_hex_converter/blob/main/binary_hex_converter.ipynb\" target=\"_parent\"><img src=\"https://colab.research.google.com/assets/colab-badge.svg\" alt=\"Open In Colab\"/></a>"
      ]
    },
    {
      "cell_type": "code",
      "source": [
        "def main():\n",
        "  \"\"\"\n",
        "\n",
        "  \"\"\"\n",
        "  num = int(input(\"輸入一個十進位數：\"))\n",
        "  print(\"二進位數：\", to_二進位(num))\n",
        "  print(\"十六進位數：\", to_十六進位(num))\n",
        "\n",
        "def to_二進位(num):\n",
        "  \"\"\"\n",
        "\n",
        "  Args:\n",
        "    num: 十進位數。\n",
        "\n",
        "  Returns:\n",
        "    二進位數。\n",
        "  \"\"\"\n",
        "  二進位_str = \"\"\n",
        "  while num > 0:\n",
        "    二進位_str = str(num % 2) + 二進位_str\n",
        "    num //= 2\n",
        "  return 二進位_str\n",
        "\n",
        "def to_十六進位(num):\n",
        "  \"\"\"\n",
        "\n",
        "\n",
        "  Args:\n",
        "    num: 十進位數。\n",
        "\n",
        "  Returns:\n",
        "    十六進位數。\n",
        "  \"\"\"\n",
        "  十六進位_str = \"\"\n",
        "  while num > 0:\n",
        "    十六進位_str = str(hex(num % 16)[2:]) + 十六進位_str\n",
        "    num //= 16\n",
        "  return 十六進位_str\n",
        "\n",
        "if __name__ == \"__main__\":\n",
        "  main()"
      ],
      "metadata": {
        "colab": {
          "base_uri": "https://localhost:8080/"
        },
        "id": "rcZvPLvLVS_8",
        "outputId": "ce9efb92-fd01-4075-bed5-f27092937b2a"
      },
      "execution_count": 20,
      "outputs": [
        {
          "output_type": "stream",
          "name": "stdout",
          "text": [
            "輸入一個十進位數：14\n",
            "二進位數： 1110\n",
            "十六進位數： e\n"
          ]
        }
      ]
    }
  ]
}